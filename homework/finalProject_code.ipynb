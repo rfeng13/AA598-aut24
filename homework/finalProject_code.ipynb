{
 "cells": [
  {
   "cell_type": "code",
   "execution_count": 1,
   "metadata": {},
   "outputs": [],
   "source": [
    "import jax.numpy as jnp\n",
    "import jax\n",
    "import numpy as np\n",
    "import matplotlib.pyplot as plt\n",
    "\n",
    "from ipywidgets import interact\n",
    "\n",
    "from aa598.hw2_helper import simulate_dynamics\n",
    "import cvxpy as cp\n",
    "from cbfax.dynamics import *\n"
   ]
  },
  {
   "cell_type": "markdown",
   "metadata": {},
   "source": [
    "Define system and problem parameters"
   ]
  },
  {
   "cell_type": "code",
   "execution_count": null,
   "metadata": {},
   "outputs": [],
   "source": [
    "robot = DynamicallyExtendedSimpleCar()\n",
    "human = DynamicallyExtendedSimpleCar()\n",
    "\n",
    "# The paper originally uses a kinematic single track model, whereas here, we use the bicycle model.\n",
    "N = 30\n",
    "timestep = 6\n",
    "Q = np.diag(np.array([0,1,0,100]))\n",
    "R_u = 0\n",
    "R_udot = 0\n",
    "\n",
    "v_min = 0\n",
    "v_max = 30\n",
    "steering_max = 0.5 # convert to radians later\n",
    "steering_min = -0.5\n",
    "a_min = -8\n",
    "a_max = 3\n",
    "j_min = -10 # j is jerk\n",
    "j_max = 6\n",
    "\n",
    "radius = 1.\n",
    "\n",
    "# x_initial_leader = [12, 3, 0, 10]^T; [x_pos, y_pos, steering, v]^T\n",
    "# x_initial_follower = [2, 5, 0, 10]^T\n",
    "# x_ref_leader = x_ref_follower = [free, 5, 0, 10]^T\n"
   ]
  },
  {
   "cell_type": "code",
   "execution_count": null,
   "metadata": {},
   "outputs": [],
   "source": [
    "@jax.jit # TO BE CHANGED\n",
    "def objective_function_base(robot_states, robot_controls, human_states_samples, coeff=[0.1, 0.3, 0.5, 0.4, 3., 3.]):\n",
    "    # lower is better\n",
    "    steering = robot_controls[:,1]\n",
    "    acceleration = robot_controls[:,0]\n",
    "    # steering effort\n",
    "    turning_effort = (steering**2).mean() \n",
    "    # acceleration effort\n",
    "    acceleration_effort = (acceleration**2).mean() \n",
    "    # speed limit\n",
    "    speed = jax.nn.relu(robot_states[:,-1].max() - v_max) + jax.nn.relu(-robot_states[:,-1].min()) \n",
    "    # progress to goal\n",
    "    progress = robot_states[-1,2]**2 + (robot_states[:,1]**2).mean()\n",
    "    # collision \n",
    "    collision = jax.nn.relu(-(jnp.linalg.norm((robot_states - human_states_samples)[:,:,:2], axis=-1).min(-1) - radius).mean())\n",
    "    # control limits\n",
    "    control_limits = jax.nn.relu(steering.max() - steering_max) + jax.nn.relu(steering_min - steering.min()) + jax.nn.relu(acceleration.max() - acceleration_max) + jax.nn.relu(acceleration_min - acceleration.min()) \n",
    "\n",
    "    return jnp.dot(jnp.array(coeff), jnp.array([turning_effort, acceleration_effort, speed, progress, collision, control_limits]))\n",
    "    \n"
   ]
  }
 ],
 "metadata": {
  "kernelspec": {
   "display_name": "Python 3",
   "language": "python",
   "name": "python3"
  },
  "language_info": {
   "codemirror_mode": {
    "name": "ipython",
    "version": 3
   },
   "file_extension": ".py",
   "mimetype": "text/x-python",
   "name": "python",
   "nbconvert_exporter": "python",
   "pygments_lexer": "ipython3",
   "version": "3.10.11"
  }
 },
 "nbformat": 4,
 "nbformat_minor": 2
}
